{
 "cells": [
  {
   "cell_type": "code",
   "execution_count": null,
   "metadata": {
    "_cell_guid": "b1076dfc-b9ad-4769-8c92-a6c4dae69d19",
    "_uuid": "8f2839f25d086af736a60e9eeb907d3b93b6e0e5",
    "execution": {
     "iopub.execute_input": "2022-06-30T13:42:50.426456Z",
     "iopub.status.busy": "2022-06-30T13:42:50.425697Z",
     "iopub.status.idle": "2022-06-30T13:42:50.472722Z",
     "shell.execute_reply": "2022-06-30T13:42:50.471709Z",
     "shell.execute_reply.started": "2022-06-30T13:42:50.426369Z"
    }
   },
   "outputs": [],
   "source": [
    "import numpy as np # linear algebra\n",
    "import pandas as pd # data processing, CSV file I/O (e.g. pd.read_csv)\n",
    "import os\n",
    "for dirname, _, filenames in os.walk('/kaggle/input'):\n",
    "    for filename in filenames:\n",
    "        print(os.path.join(dirname, filename))\n",
    "        break"
   ]
  },
  {
   "cell_type": "code",
   "execution_count": null,
   "metadata": {
    "execution": {
     "iopub.execute_input": "2022-06-30T13:42:50.474157Z",
     "iopub.status.busy": "2022-06-30T13:42:50.473848Z",
     "iopub.status.idle": "2022-06-30T13:42:52.038699Z",
     "shell.execute_reply": "2022-06-30T13:42:52.037714Z",
     "shell.execute_reply.started": "2022-06-30T13:42:50.474122Z"
    }
   },
   "outputs": [],
   "source": [
    "from tensorflow.keras.preprocessing.image import ImageDataGenerator\n",
    "from tensorflow.keras.layers import Dense, Flatten, Conv2D, MaxPool2D, Dropout\n",
    "from tensorflow.keras.models import Sequential\n",
    "import pickle\n",
    "import numpy as np"
   ]
  },
  {
   "cell_type": "code",
   "execution_count": null,
   "metadata": {
    "execution": {
     "iopub.execute_input": "2022-06-30T13:42:52.041293Z",
     "iopub.status.busy": "2022-06-30T13:42:52.040760Z",
     "iopub.status.idle": "2022-06-30T13:42:52.577856Z",
     "shell.execute_reply": "2022-06-30T13:42:52.576875Z",
     "shell.execute_reply.started": "2022-06-30T13:42:52.041266Z"
    }
   },
   "outputs": [],
   "source": [
    "train_datagen = ImageDataGenerator(rescale = 1./255, shear_range = 0.2, zoom_range = 0.2, horizontal_flip = True)\n",
    "training_set = train_datagen.flow_from_directory('../input/cat-and-dog/training_set/training_set',target_size = (64, 64),batch_size = 32,class_mode = 'binary')"
   ]
  },
  {
   "cell_type": "code",
   "execution_count": null,
   "metadata": {
    "execution": {
     "iopub.execute_input": "2022-06-30T13:42:52.579721Z",
     "iopub.status.busy": "2022-06-30T13:42:52.579368Z",
     "iopub.status.idle": "2022-06-30T13:42:52.690690Z",
     "shell.execute_reply": "2022-06-30T13:42:52.689326Z",
     "shell.execute_reply.started": "2022-06-30T13:42:52.579684Z"
    }
   },
   "outputs": [],
   "source": [
    "test_datagen = ImageDataGenerator(rescale = 1./255)\n",
    "test_set = test_datagen.flow_from_directory('../input/cat-and-dog/test_set/test_set',target_size = (64,64), batch_size = 32, class_mode = 'binary')"
   ]
  },
  {
   "cell_type": "code",
   "execution_count": null,
   "metadata": {
    "execution": {
     "iopub.execute_input": "2022-06-30T13:42:52.693050Z",
     "iopub.status.busy": "2022-06-30T13:42:52.692686Z",
     "iopub.status.idle": "2022-06-30T13:42:53.729078Z",
     "shell.execute_reply": "2022-06-30T13:42:53.726566Z",
     "shell.execute_reply.started": "2022-06-30T13:42:52.693014Z"
    }
   },
   "outputs": [],
   "source": [
    "model = Sequential()\n",
    "model.add(Conv2D(filters=32,kernel_size=3,activation='relu',input_shape=[64,64,3]))\n",
    "model.add(MaxPool2D(pool_size=(2,2)))\n",
    "model.add(Conv2D(filters=64,kernel_size=3,activation='relu'))\n",
    "model.add(MaxPool2D(pool_size=(2,2)))\n",
    "model.add(Flatten())\n",
    "model.add(Dense(units=512,activation='relu'))\n",
    "model.add(Dense(units=1,activation='sigmoid'))\n",
    "\n",
    "\n",
    "model.compile(optimizer = 'adam', loss = 'binary_crossentropy', metrics = ['accuracy'])"
   ]
  },
  {
   "cell_type": "code",
   "execution_count": null,
   "metadata": {
    "execution": {
     "iopub.execute_input": "2022-06-30T13:42:57.539642Z",
     "iopub.status.busy": "2022-06-30T13:42:57.538231Z",
     "iopub.status.idle": "2022-06-30T13:42:57.548748Z",
     "shell.execute_reply": "2022-06-30T13:42:57.547331Z",
     "shell.execute_reply.started": "2022-06-30T13:42:57.539594Z"
    }
   },
   "outputs": [],
   "source": [
    "model.summary()"
   ]
  },
  {
   "cell_type": "code",
   "execution_count": null,
   "metadata": {
    "execution": {
     "iopub.execute_input": "2022-06-30T13:43:29.697550Z",
     "iopub.status.busy": "2022-06-30T13:43:29.696931Z",
     "iopub.status.idle": "2022-06-30T13:50:03.110174Z",
     "shell.execute_reply": "2022-06-30T13:50:03.109194Z",
     "shell.execute_reply.started": "2022-06-30T13:43:29.697515Z"
    }
   },
   "outputs": [],
   "source": [
    "history = model.fit(x=training_set,validation_data=test_set,epochs=10)"
   ]
  },
  {
   "cell_type": "code",
   "execution_count": null,
   "metadata": {
    "execution": {
     "iopub.execute_input": "2022-06-30T13:51:30.975533Z",
     "iopub.status.busy": "2022-06-30T13:51:30.974815Z",
     "iopub.status.idle": "2022-06-30T13:51:31.123993Z",
     "shell.execute_reply": "2022-06-30T13:51:31.122901Z",
     "shell.execute_reply.started": "2022-06-30T13:51:30.975494Z"
    }
   },
   "outputs": [],
   "source": [
    "model.save('./keras_model.h5')"
   ]
  },
  {
   "cell_type": "code",
   "execution_count": null,
   "metadata": {
    "execution": {
     "iopub.execute_input": "2022-06-30T13:51:57.977097Z",
     "iopub.status.busy": "2022-06-30T13:51:57.976629Z",
     "iopub.status.idle": "2022-06-30T13:51:58.342650Z",
     "shell.execute_reply": "2022-06-30T13:51:58.341747Z",
     "shell.execute_reply.started": "2022-06-30T13:51:57.977062Z"
    }
   },
   "outputs": [],
   "source": [
    "import matplotlib.pyplot as plt\n",
    "acc = history.history['accuracy']\n",
    "val_acc = history.history['val_accuracy']\n",
    "epochs = range(len(acc))\n",
    "\n",
    "plt.plot(epochs, acc, 'b', label='Training Accuracy')\n",
    "plt.plot(epochs, val_acc, 'r', label='Validation Accuracy')\n",
    "plt.title('Accuracy Graph')\n",
    "plt.legend()\n",
    "plt.figure()\n",
    "\n",
    "loss = history.history['loss']\n",
    "val_loss = history.history['val_loss']\n",
    "plt.plot(epochs, loss, 'b', label='Training Loss')\n",
    "plt.plot(epochs, val_loss, 'r', label='Validation Loss')\n",
    "plt.title('Loss Graph')\n",
    "plt.legend()\n",
    "plt.show()"
   ]
  },
  {
   "cell_type": "code",
   "execution_count": null,
   "metadata": {},
   "outputs": [],
   "source": [
    "from tensorflow.keras.models import load_model\n",
    "from PIL import Image, ImageOps\n",
    "import numpy as np\n",
    "\n",
    "# Load the model\n",
    "model = load_model('keras_model.h5')\n",
    "\n",
    "# Replace this with the path to your image\n",
    "image = Image.open('static/dog.4018.jpg')\n",
    "#resize the image to a 224x224 with the same strategy as in TM2:\n",
    "#resizing the image to be at least 224x224 and then cropping from the center\n",
    "size = (224, 224)\n",
    "image = ImageOps.fit(image, size, Image.ANTIALIAS)\n",
    "\n",
    "#turn the image into a numpy array\n",
    "image_array = np.asarray(image)\n",
    "# Normalize the image\n",
    "normalized_image_array = (image_array.astype(np.float32) / 127.0) - 1\n",
    "# Load the image into the array\n",
    "input_array = normalized_image_array.reshape(1,224,224,3)\n",
    "\n",
    "# run the inference\n",
    "prediction = model.predict(input_array)\n",
    "print(np.argmax(prediction))"
   ]
  },
  {
   "cell_type": "code",
   "execution_count": null,
   "metadata": {},
   "outputs": [],
   "source": []
  }
 ],
 "metadata": {
  "kernelspec": {
   "display_name": "Python 3 (ipykernel)",
   "language": "python",
   "name": "python3"
  },
  "language_info": {
   "codemirror_mode": {
    "name": "ipython",
    "version": 3
   },
   "file_extension": ".py",
   "mimetype": "text/x-python",
   "name": "python",
   "nbconvert_exporter": "python",
   "pygments_lexer": "ipython3",
   "version": "3.8.12"
  }
 },
 "nbformat": 4,
 "nbformat_minor": 4
}
